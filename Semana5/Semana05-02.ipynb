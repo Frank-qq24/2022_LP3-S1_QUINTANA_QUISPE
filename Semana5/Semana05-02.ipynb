{
 "cells": [
  {
   "cell_type": "markdown",
   "id": "8aa9d854",
   "metadata": {},
   "source": [
    "# 2. Semana 05\n",
    "Frank Quintana Quispe\n",
    "\n",
    "Temas:"
   ]
  },
  {
   "cell_type": "markdown",
   "id": "c0fc7147",
   "metadata": {},
   "source": [
    "1. numeros\n",
    "2. variables\n",
    "3. Manejo de candenas\n",
    "4. Ingreso de datos por teclado\n",
    "5. Operaciones"
   ]
  },
  {
   "cell_type": "markdown",
   "id": "8c45316d",
   "metadata": {},
   "source": [
    "---------------------\n",
    "2. Variables"
   ]
  },
  {
   "cell_type": "code",
   "execution_count": 2,
   "id": "d1478bed",
   "metadata": {},
   "outputs": [],
   "source": [
    "#Siempre deben de iniciar con una letra o un guion abajo.(nunca con un numero u otro signo)"
   ]
  },
  {
   "cell_type": "code",
   "execution_count": 3,
   "id": "61a3d6c8",
   "metadata": {},
   "outputs": [
    {
     "data": {
      "text/plain": [
       "41"
      ]
     },
     "execution_count": 3,
     "metadata": {},
     "output_type": "execute_result"
    }
   ],
   "source": [
    "edad=41\n",
    "edad"
   ]
  },
  {
   "cell_type": "code",
   "execution_count": 11,
   "id": "9a30ce14",
   "metadata": {},
   "outputs": [
    {
     "data": {
      "text/plain": [
       "'Frank'"
      ]
     },
     "execution_count": 11,
     "metadata": {},
     "output_type": "execute_result"
    }
   ],
   "source": [
    "nombre = \"Frank\"\n",
    "nombre"
   ]
  },
  {
   "cell_type": "code",
   "execution_count": 6,
   "id": "11fe8268",
   "metadata": {},
   "outputs": [
    {
     "data": {
      "text/plain": [
       "'Quintana Quispe'"
      ]
     },
     "execution_count": 6,
     "metadata": {},
     "output_type": "execute_result"
    }
   ],
   "source": [
    "apellido = \"Quintana Quispe\"\n",
    "apellido"
   ]
  },
  {
   "cell_type": "code",
   "execution_count": 12,
   "id": "cceb6ab2",
   "metadata": {},
   "outputs": [
    {
     "data": {
      "text/plain": [
       "'FrankQuintana Quispe'"
      ]
     },
     "execution_count": 12,
     "metadata": {},
     "output_type": "execute_result"
    }
   ],
   "source": [
    "nombrecompleto = nombre + apellido\n",
    "nombrecompleto"
   ]
  },
  {
   "cell_type": "code",
   "execution_count": 13,
   "id": "411762df",
   "metadata": {},
   "outputs": [
    {
     "data": {
      "text/plain": [
       "'Frank Quintana Quispe'"
      ]
     },
     "execution_count": 13,
     "metadata": {},
     "output_type": "execute_result"
    }
   ],
   "source": [
    "nombrecompleto = nombre+\" \"+apellido\n",
    "nombrecompleto"
   ]
  },
  {
   "cell_type": "code",
   "execution_count": 14,
   "id": "0387c571",
   "metadata": {},
   "outputs": [],
   "source": [
    "#Para saber el tipo de vairable utilizamos la funcion type()\n",
    "#Por ejemplo: "
   ]
  },
  {
   "cell_type": "code",
   "execution_count": 15,
   "id": "6ed471ea",
   "metadata": {},
   "outputs": [
    {
     "data": {
      "text/plain": [
       "int"
      ]
     },
     "execution_count": 15,
     "metadata": {},
     "output_type": "execute_result"
    }
   ],
   "source": [
    "numero=50\n",
    "type(numero)"
   ]
  },
  {
   "cell_type": "code",
   "execution_count": 16,
   "id": "4640e8b5",
   "metadata": {},
   "outputs": [
    {
     "data": {
      "text/plain": [
       "str"
      ]
     },
     "execution_count": 16,
     "metadata": {},
     "output_type": "execute_result"
    }
   ],
   "source": [
    "type(nombre)"
   ]
  },
  {
   "cell_type": "code",
   "execution_count": 17,
   "id": "ec1b2cac",
   "metadata": {},
   "outputs": [
    {
     "data": {
      "text/plain": [
       "1.68"
      ]
     },
     "execution_count": 17,
     "metadata": {},
     "output_type": "execute_result"
    }
   ],
   "source": [
    "talla=1.68\n",
    "talla"
   ]
  },
  {
   "cell_type": "code",
   "execution_count": 18,
   "id": "f9763cf0",
   "metadata": {},
   "outputs": [
    {
     "data": {
      "text/plain": [
       "float"
      ]
     },
     "execution_count": 18,
     "metadata": {},
     "output_type": "execute_result"
    }
   ],
   "source": [
    "type(talla)"
   ]
  },
  {
   "cell_type": "code",
   "execution_count": 20,
   "id": "6fa55474",
   "metadata": {},
   "outputs": [
    {
     "data": {
      "text/plain": [
       "'100'"
      ]
     },
     "execution_count": 20,
     "metadata": {},
     "output_type": "execute_result"
    }
   ],
   "source": [
    "# Para convertir el numero en cadena ultizamos str()\n",
    "numero =100\n",
    "cadena = str(numero)\n",
    "cadena"
   ]
  },
  {
   "cell_type": "code",
   "execution_count": 22,
   "id": "f46f8550",
   "metadata": {},
   "outputs": [
    {
     "data": {
      "text/plain": [
       "str"
      ]
     },
     "execution_count": 22,
     "metadata": {},
     "output_type": "execute_result"
    }
   ],
   "source": [
    "type(cadena)"
   ]
  },
  {
   "cell_type": "code",
   "execution_count": 27,
   "id": "f6efdf41",
   "metadata": {},
   "outputs": [
    {
     "data": {
      "text/plain": [
       "50"
      ]
     },
     "execution_count": 27,
     "metadata": {},
     "output_type": "execute_result"
    }
   ],
   "source": [
    "# Para convertir una cadena en un entero utilizamos int()\n",
    "cadena2 =\"50\"\n",
    "numero2 = int(cadena2)\n",
    "numero2"
   ]
  },
  {
   "cell_type": "code",
   "execution_count": 28,
   "id": "787c37dd",
   "metadata": {},
   "outputs": [
    {
     "data": {
      "text/plain": [
       "int"
      ]
     },
     "execution_count": 28,
     "metadata": {},
     "output_type": "execute_result"
    }
   ],
   "source": [
    "type(numero2)"
   ]
  },
  {
   "cell_type": "code",
   "execution_count": 29,
   "id": "133c632f",
   "metadata": {},
   "outputs": [
    {
     "data": {
      "text/plain": [
       "50.0"
      ]
     },
     "execution_count": 29,
     "metadata": {},
     "output_type": "execute_result"
    }
   ],
   "source": [
    "# Para convertir una cadena a un decimal utilizamos float()\n",
    "cadena3 =\"50\"\n",
    "numero3 = float(cadena3)\n",
    "numero3"
   ]
  },
  {
   "cell_type": "code",
   "execution_count": 30,
   "id": "8172c7c3",
   "metadata": {},
   "outputs": [
    {
     "data": {
      "text/plain": [
       "float"
      ]
     },
     "execution_count": 30,
     "metadata": {},
     "output_type": "execute_result"
    }
   ],
   "source": [
    "type(numero3)"
   ]
  },
  {
   "cell_type": "code",
   "execution_count": null,
   "id": "f975e109",
   "metadata": {},
   "outputs": [],
   "source": []
  }
 ],
 "metadata": {
  "kernelspec": {
   "display_name": "Python 3 (ipykernel)",
   "language": "python",
   "name": "python3"
  },
  "language_info": {
   "codemirror_mode": {
    "name": "ipython",
    "version": 3
   },
   "file_extension": ".py",
   "mimetype": "text/x-python",
   "name": "python",
   "nbconvert_exporter": "python",
   "pygments_lexer": "ipython3",
   "version": "3.9.7"
  }
 },
 "nbformat": 4,
 "nbformat_minor": 5
}
