{
 "cells": [
  {
   "cell_type": "markdown",
   "id": "9a339358",
   "metadata": {},
   "source": [
    "# Semana 05\n",
    "Estudiante de ingenieria de sistemas\n",
    "temas"
   ]
  },
  {
   "cell_type": "markdown",
   "id": "7e62a94d",
   "metadata": {},
   "source": [
    "1. numeros\n",
    "2. variables\n",
    "3. Manejo de candenas\n",
    "4. Ingreso de datos por teclado\n",
    "5. Operaciones\n",
    "\n",
    "---------------------------\n",
    "1. numeros"
   ]
  },
  {
   "cell_type": "code",
   "execution_count": 2,
   "id": "ccce30d9",
   "metadata": {
    "scrolled": true
   },
   "outputs": [
    {
     "data": {
      "text/plain": [
       "9"
      ]
     },
     "execution_count": 2,
     "metadata": {},
     "output_type": "execute_result"
    }
   ],
   "source": [
    "4+5"
   ]
  },
  {
   "cell_type": "code",
   "execution_count": 3,
   "id": "96153039",
   "metadata": {},
   "outputs": [
    {
     "data": {
      "text/plain": [
       "40"
      ]
     },
     "execution_count": 3,
     "metadata": {},
     "output_type": "execute_result"
    }
   ],
   "source": [
    "5*8"
   ]
  },
  {
   "cell_type": "code",
   "execution_count": 4,
   "id": "57b3500b",
   "metadata": {},
   "outputs": [
    {
     "data": {
      "text/plain": [
       "2.3333333333333335"
      ]
     },
     "execution_count": 4,
     "metadata": {},
     "output_type": "execute_result"
    }
   ],
   "source": [
    "7/3"
   ]
  },
  {
   "cell_type": "code",
   "execution_count": null,
   "id": "48b08f28",
   "metadata": {},
   "outputs": [],
   "source": []
  }
 ],
 "metadata": {
  "kernelspec": {
   "display_name": "Python 3 (ipykernel)",
   "language": "python",
   "name": "python3"
  },
  "language_info": {
   "codemirror_mode": {
    "name": "ipython",
    "version": 3
   },
   "file_extension": ".py",
   "mimetype": "text/x-python",
   "name": "python",
   "nbconvert_exporter": "python",
   "pygments_lexer": "ipython3",
   "version": "3.9.7"
  }
 },
 "nbformat": 4,
 "nbformat_minor": 5
}
