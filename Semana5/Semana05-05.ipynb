{
 "cells": [
  {
   "cell_type": "markdown",
   "id": "0b083ecf",
   "metadata": {},
   "source": [
    "# 5. Semana 05\n",
    "Frank Quintana Quispe\n",
    "\n",
    "Temas:"
   ]
  },
  {
   "cell_type": "markdown",
   "id": "11a36415",
   "metadata": {},
   "source": [
    "1. numeros\n",
    "2. variables\n",
    "3. Manejo de candenas\n",
    "4. Ingreso de datos por teclado\n",
    "5. Operaciones\n",
    "\n",
    "OPERACIONES"
   ]
  },
  {
   "cell_type": "code",
   "execution_count": 1,
   "id": "22e6e38c",
   "metadata": {},
   "outputs": [],
   "source": [
    "# 5.1 oPERADRES aRITMETICOS\n",
    "#se tiene> +,-,*,/,**,%,//"
   ]
  },
  {
   "cell_type": "code",
   "execution_count": 2,
   "id": "2ca790cd",
   "metadata": {},
   "outputs": [
    {
     "name": "stdout",
     "output_type": "stream",
     "text": [
      "13\n",
      "7\n",
      "30\n",
      "3.3333333333333335\n",
      "1\n",
      "1000\n",
      "3\n"
     ]
    }
   ],
   "source": [
    "numero1 =10\n",
    "numero2 = 3\n",
    "suma = numero1 + numero2\n",
    "resta = numero1 - numero2\n",
    "multi = numero1 * numero2\n",
    "divi = numero1 / numero2\n",
    "residuo = numero1 % numero2\n",
    "potencia = numero1 ** numero2\n",
    "cociente = numero1 // numero2\n",
    "\n",
    "print(suma)\n",
    "print(resta)\n",
    "print(multi)\n",
    "print(divi)\n",
    "print(residuo)\n",
    "print(potencia)\n",
    "print(cociente)"
   ]
  },
  {
   "cell_type": "code",
   "execution_count": 3,
   "id": "51e86f45",
   "metadata": {},
   "outputs": [
    {
     "name": "stdout",
     "output_type": "stream",
     "text": [
      "8\n"
     ]
    }
   ],
   "source": [
    "#5.2 operadores de asignacion \n",
    "#se tiene =,+=,-=,*=, /=, **=\n",
    "a = 5\n",
    "a = a + 3\n",
    "print(a)"
   ]
  },
  {
   "cell_type": "code",
   "execution_count": 4,
   "id": "0504abf9",
   "metadata": {},
   "outputs": [
    {
     "name": "stdout",
     "output_type": "stream",
     "text": [
      "10\n"
     ]
    }
   ],
   "source": [
    "# lo mismo de lo anterior\n",
    "a = 5\n",
    "a +=5\n",
    "print(a)"
   ]
  },
  {
   "cell_type": "code",
   "execution_count": 5,
   "id": "1de7496a",
   "metadata": {},
   "outputs": [
    {
     "name": "stdout",
     "output_type": "stream",
     "text": [
      "125\n"
     ]
    }
   ],
   "source": [
    "#EJEMPLO:\n",
    "numero= 5\n",
    "numero =numero**3\n",
    "print(numero)"
   ]
  },
  {
   "cell_type": "code",
   "execution_count": 6,
   "id": "6d59ffc2",
   "metadata": {},
   "outputs": [
    {
     "name": "stdout",
     "output_type": "stream",
     "text": [
      "125\n"
     ]
    }
   ],
   "source": [
    "# lo mismo de lo anterior\n",
    "numero= 5\n",
    "numero**=3\n",
    "print (numero)"
   ]
  },
  {
   "cell_type": "code",
   "execution_count": 7,
   "id": "88b7d8c5",
   "metadata": {},
   "outputs": [],
   "source": [
    "#condicionales\n"
   ]
  },
  {
   "cell_type": "code",
   "execution_count": null,
   "id": "7ae5836b",
   "metadata": {},
   "outputs": [],
   "source": []
  },
  {
   "cell_type": "code",
   "execution_count": 8,
   "id": "e1c3bb1f",
   "metadata": {},
   "outputs": [],
   "source": [
    "#5.4 operadores logicos\n",
    "# se tiene: and, or , not \n",
    "numero1 =1\n",
    "numero2=2\n",
    "numero3=3\n",
    "numero4=4\n"
   ]
  },
  {
   "cell_type": "code",
   "execution_count": 9,
   "id": "59aa7dc0",
   "metadata": {},
   "outputs": [
    {
     "data": {
      "text/plain": [
       "True"
      ]
     },
     "execution_count": 9,
     "metadata": {},
     "output_type": "execute_result"
    }
   ],
   "source": [
    "numero1<numero2"
   ]
  },
  {
   "cell_type": "code",
   "execution_count": 10,
   "id": "93f24ea4",
   "metadata": {},
   "outputs": [
    {
     "data": {
      "text/plain": [
       "False"
      ]
     },
     "execution_count": 10,
     "metadata": {},
     "output_type": "execute_result"
    }
   ],
   "source": [
    "#el not invierte el resultado\n",
    "not(numero1<numero2)"
   ]
  },
  {
   "cell_type": "code",
   "execution_count": 11,
   "id": "7fad1d9c",
   "metadata": {},
   "outputs": [
    {
     "data": {
      "text/plain": [
       "True"
      ]
     },
     "execution_count": 11,
     "metadata": {},
     "output_type": "execute_result"
    }
   ],
   "source": [
    "numero1<numero2 and numero3<numero4"
   ]
  },
  {
   "cell_type": "code",
   "execution_count": 12,
   "id": "68ab1b47",
   "metadata": {},
   "outputs": [
    {
     "data": {
      "text/plain": [
       "True"
      ]
     },
     "execution_count": 12,
     "metadata": {},
     "output_type": "execute_result"
    }
   ],
   "source": [
    "# tambien puedes utilizar parentesis para ordenar tu operacion\n",
    "(numero1<numero2 and numero3<numero4) or (numero3>numero4)"
   ]
  },
  {
   "cell_type": "code",
   "execution_count": 13,
   "id": "8c17a00e",
   "metadata": {},
   "outputs": [],
   "source": [
    "# 5.5 operadores de pertenencia\n",
    "# se tiene: in, not in "
   ]
  },
  {
   "cell_type": "code",
   "execution_count": 15,
   "id": "5bc81fec",
   "metadata": {},
   "outputs": [],
   "source": [
    "#ejemplo: \n",
    "aula= [\"juan\", \"daniel\",\"ruben\"]\n",
    "alumno1 =\"diego\"\n",
    "alumno2 =\"juan\""
   ]
  },
  {
   "cell_type": "code",
   "execution_count": 17,
   "id": "d5faa322",
   "metadata": {},
   "outputs": [
    {
     "data": {
      "text/plain": [
       "False"
      ]
     },
     "execution_count": 17,
     "metadata": {},
     "output_type": "execute_result"
    }
   ],
   "source": [
    "# diego esta en aula?\n",
    "alumno1 in aula"
   ]
  },
  {
   "cell_type": "code",
   "execution_count": 18,
   "id": "ea98eb36",
   "metadata": {},
   "outputs": [
    {
     "data": {
      "text/plain": [
       "True"
      ]
     },
     "execution_count": 18,
     "metadata": {},
     "output_type": "execute_result"
    }
   ],
   "source": [
    "#juan esta en aula?\n",
    "alumno2 in aula"
   ]
  },
  {
   "cell_type": "code",
   "execution_count": 20,
   "id": "6c5b6a85",
   "metadata": {},
   "outputs": [
    {
     "data": {
      "text/plain": [
       "True"
      ]
     },
     "execution_count": 20,
     "metadata": {},
     "output_type": "execute_result"
    }
   ],
   "source": [
    "# diego no esta en aula?\n",
    "alumno1 not in aula"
   ]
  },
  {
   "cell_type": "code",
   "execution_count": 21,
   "id": "51e5e8e3",
   "metadata": {},
   "outputs": [
    {
     "data": {
      "text/plain": [
       "False"
      ]
     },
     "execution_count": 21,
     "metadata": {},
     "output_type": "execute_result"
    }
   ],
   "source": [
    "#juan no esta en aula?\n",
    "alumno2 not in aula"
   ]
  },
  {
   "cell_type": "code",
   "execution_count": 22,
   "id": "09087039",
   "metadata": {},
   "outputs": [],
   "source": [
    "#5.6 operadores de identidad \n",
    "# se tiene: is, is not"
   ]
  },
  {
   "cell_type": "code",
   "execution_count": 24,
   "id": "c4e3c20b",
   "metadata": {},
   "outputs": [],
   "source": [
    "aula1= [\"juan\", \"daniel\",\"ruben\"]\n",
    "aula2= [\"juan\", \"daniel\",\"ruben\"]\n",
    "\n",
    "# A continuacion vamos a indicar que aula3 va a compartir el mismo objeto que aula1\n",
    "aula3 = aula1"
   ]
  },
  {
   "cell_type": "code",
   "execution_count": 25,
   "id": "c30ad558",
   "metadata": {},
   "outputs": [
    {
     "data": {
      "text/plain": [
       "True"
      ]
     },
     "execution_count": 25,
     "metadata": {},
     "output_type": "execute_result"
    }
   ],
   "source": [
    "aula3 is aula1"
   ]
  },
  {
   "cell_type": "code",
   "execution_count": 26,
   "id": "06b292f2",
   "metadata": {},
   "outputs": [
    {
     "data": {
      "text/plain": [
       "False"
      ]
     },
     "execution_count": 26,
     "metadata": {},
     "output_type": "execute_result"
    }
   ],
   "source": [
    "#aula3 comparte comparte el mismo objeto que aula2?\n",
    "aula3 is aula2"
   ]
  },
  {
   "cell_type": "code",
   "execution_count": 27,
   "id": "392cb3a4",
   "metadata": {},
   "outputs": [
    {
     "data": {
      "text/plain": [
       "False"
      ]
     },
     "execution_count": 27,
     "metadata": {},
     "output_type": "execute_result"
    }
   ],
   "source": [
    "#aula2 comparte el mismo objeto que aula1?\n",
    "aula2 is aula1"
   ]
  },
  {
   "cell_type": "code",
   "execution_count": 28,
   "id": "09132801",
   "metadata": {},
   "outputs": [],
   "source": [
    "aula1.append(\"diego\")"
   ]
  },
  {
   "cell_type": "code",
   "execution_count": 29,
   "id": "14ec2b75",
   "metadata": {},
   "outputs": [
    {
     "name": "stdout",
     "output_type": "stream",
     "text": [
      "['juan', 'daniel', 'ruben', 'diego']\n"
     ]
    }
   ],
   "source": [
    "# al imprimir los elementos de las lista \n",
    "print(aula1)"
   ]
  },
  {
   "cell_type": "code",
   "execution_count": 30,
   "id": "12ee6ebf",
   "metadata": {},
   "outputs": [
    {
     "name": "stdout",
     "output_type": "stream",
     "text": [
      "['juan', 'daniel', 'ruben', 'diego']\n"
     ]
    }
   ],
   "source": [
    "print(aula3)"
   ]
  },
  {
   "cell_type": "code",
   "execution_count": 32,
   "id": "aea0ca35",
   "metadata": {},
   "outputs": [],
   "source": [
    "# Para abrir un archivo con la librería PIL\n",
    "from PIL import Image\n",
    "img = Image.open(\"miguel.png\")\n",
    "img.show()"
   ]
  },
  {
   "cell_type": "code",
   "execution_count": null,
   "id": "3a6face1",
   "metadata": {},
   "outputs": [],
   "source": []
  }
 ],
 "metadata": {
  "kernelspec": {
   "display_name": "Python 3 (ipykernel)",
   "language": "python",
   "name": "python3"
  },
  "language_info": {
   "codemirror_mode": {
    "name": "ipython",
    "version": 3
   },
   "file_extension": ".py",
   "mimetype": "text/x-python",
   "name": "python",
   "nbconvert_exporter": "python",
   "pygments_lexer": "ipython3",
   "version": "3.9.7"
  }
 },
 "nbformat": 4,
 "nbformat_minor": 5
}
