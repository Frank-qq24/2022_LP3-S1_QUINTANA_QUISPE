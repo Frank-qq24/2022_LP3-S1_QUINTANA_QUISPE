{
 "cells": [
  {
   "cell_type": "markdown",
   "id": "229807bd",
   "metadata": {},
   "source": [
    "# 4. Semana 05\n",
    "Frank Quintana Quispe\n",
    "\n",
    "Temas:"
   ]
  },
  {
   "cell_type": "markdown",
   "id": "4e8b9ac8",
   "metadata": {},
   "source": [
    "1. numeros\n",
    "2. variables\n",
    "3. Manejo de candenas\n",
    "4. Ingreso de datos por teclado\n",
    "5. Operaciones"
   ]
  },
  {
   "cell_type": "markdown",
   "id": "66fffb39",
   "metadata": {},
   "source": [
    "MANEJO DE DATOS"
   ]
  },
  {
   "cell_type": "code",
   "execution_count": 1,
   "id": "0b0b86f3",
   "metadata": {},
   "outputs": [
    {
     "name": "stdout",
     "output_type": "stream",
     "text": [
      "cual es tu nombre?\n",
      "frank\n",
      "hola frank\n"
     ]
    }
   ],
   "source": [
    "#funcion input()\n",
    "print(\"cual es tu nombre?\")\n",
    "nombre = input()\n",
    "print(\"hola \"+nombre )"
   ]
  },
  {
   "cell_type": "code",
   "execution_count": 5,
   "id": "b900c79f",
   "metadata": {},
   "outputs": [
    {
     "name": "stdout",
     "output_type": "stream",
     "text": [
      "numero1: \n",
      "3\n",
      "numero2: \n",
      "3\n",
      "resultado =  6\n"
     ]
    }
   ],
   "source": [
    "#cuando ingresa un valor por teclado lo hace como cadena\n",
    "print(\"numero1: \")\n",
    "numero1 = input()\n",
    "print(\"numero2: \")\n",
    "numero2 = input()\n",
    "numero3 = int(numero1) + int(numero2)\n",
    "print(f\"resultado =  { numero3 }\")"
   ]
  },
  {
   "cell_type": "code",
   "execution_count": null,
   "id": "02cbe656",
   "metadata": {},
   "outputs": [],
   "source": []
  }
 ],
 "metadata": {
  "kernelspec": {
   "display_name": "Python 3 (ipykernel)",
   "language": "python",
   "name": "python3"
  },
  "language_info": {
   "codemirror_mode": {
    "name": "ipython",
    "version": 3
   },
   "file_extension": ".py",
   "mimetype": "text/x-python",
   "name": "python",
   "nbconvert_exporter": "python",
   "pygments_lexer": "ipython3",
   "version": "3.9.7"
  }
 },
 "nbformat": 4,
 "nbformat_minor": 5
}
