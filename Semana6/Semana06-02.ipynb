{
 "cells": [
  {
   "cell_type": "markdown",
   "id": "92262acb",
   "metadata": {},
   "source": [
    "# Semana 06\n",
    "Quintana Quispe Frank\n",
    "\n",
    "    1. Colecciones de Datos\n",
    "    2. Estrcutura decisivas y repetitivas"
   ]
  },
  {
   "cell_type": "code",
   "execution_count": null,
   "id": "50a38451",
   "metadata": {},
   "outputs": [],
   "source": []
  },
  {
   "cell_type": "code",
   "execution_count": 5,
   "id": "96020694",
   "metadata": {},
   "outputs": [
    {
     "name": "stdout",
     "output_type": "stream",
     "text": [
      "Producto 01:300\n",
      "Producto 02:1000\n",
      "Producto 03:2000\n",
      "total= 2970.0\n"
     ]
    }
   ],
   "source": [
    "# estructuras decisivas (if, else, )\n",
    "p1 =  float(input(\"Producto 01:\"))\n",
    "p2 =  float(input(\"Producto 02:\"))\n",
    "p3 =  float(input(\"Producto 03:\"))\n",
    "total = p1 +p2+p3\n",
    "if total >1000:\n",
    "    total*=0.9\n",
    "print(f\"total= {total}\")"
   ]
  },
  {
   "cell_type": "code",
   "execution_count": 6,
   "id": "512dd87f",
   "metadata": {},
   "outputs": [
    {
     "name": "stdout",
     "output_type": "stream",
     "text": [
      "Importe: 4000\n",
      "Empleado de categoria C con importe de 4000.0\n"
     ]
    }
   ],
   "source": [
    "importe = float(input(\"Importe: \"))\n",
    "if importe>0 and importe<=1000:\n",
    "    print(f\"Empleado de categoria A con importe de {importe}\")\n",
    "if importe>1000 and importe<=2000:\n",
    "    print(f\"Empleado de categoria B con importe de {importe}\")\n",
    "if importe>2000 and importe<=5000:\n",
    "    print(f\"Empleado de categoria C con importe de {importe}\")\n",
    "if importe>5000:\n",
    "    print(f\"Empleado de categoria D con importe de {importe}\")"
   ]
  },
  {
   "cell_type": "code",
   "execution_count": 10,
   "id": "8e742610",
   "metadata": {},
   "outputs": [
    {
     "name": "stdout",
     "output_type": "stream",
     "text": [
      "Importe: 7999\n",
      "Empleado de categoria D con importe de 7999.0\n"
     ]
    }
   ],
   "source": [
    "importe = float(input(\"Importe: \"))\n",
    "if importe>0 and importe<=1000:\n",
    "    print(f\"Empleado de categoria A con importe de {importe}\")\n",
    "elif importe>1000 and importe<=2000:\n",
    "    print(f\"Empleado de categoria B con importe de {importe}\")\n",
    "elif importe>2000 and importe<=5000:\n",
    "    print(f\"Empleado de categoria C con importe de {importe}\")\n",
    "elif importe>5000:\n",
    "    print(f\"Empleado de categoria D con importe de {importe}\")"
   ]
  },
  {
   "cell_type": "code",
   "execution_count": 11,
   "id": "bb85b896",
   "metadata": {},
   "outputs": [
    {
     "name": "stdout",
     "output_type": "stream",
     "text": [
      "ALANYA\n",
      "ALVA\n",
      "AZAÑERO\n",
      "CARRASCO\n",
      "CCACCYA\n",
      "COSME\n",
      "CUSI\n",
      "DIAZ\n",
      "FLORES\n",
      "GOMEZ\n",
      "GOMEZ\n",
      "GRANADOS\n",
      "HUANCAS\n",
      "JULCA\n",
      "LAURA\n",
      "MOTTA\n",
      "PINEDO\n",
      "PONCE\n",
      "QUINTANA\n",
      "RODRIGUEZ\n",
      "SERNA\n",
      "VILCA\n",
      "YAURICASA\n"
     ]
    }
   ],
   "source": [
    "#ciclo for\n",
    "LP3 = [\"ALANYA\", \"ALVA\", \"AZAÑERO\", \"CARRASCO\", \"CCACCYA\", \"COSME\", \"CUSI\", \"DIAZ\", \"FLORES\", \"GOMEZ\", \"GOMEZ\", \"GRANADOS\", \"HUANCAS\", \"JULCA\", \"LAURA\",\"MOTTA\",\"PINEDO\",\"PONCE\",\"QUINTANA\",\"RODRIGUEZ\",\"SERNA\",\"VILCA\",\"YAURICASA\"]\n",
    "for alumno in LP3:\n",
    "    print(alumno)"
   ]
  },
  {
   "cell_type": "code",
   "execution_count": 12,
   "id": "156bb5d0",
   "metadata": {},
   "outputs": [
    {
     "data": {
      "text/plain": [
       "range(0, 5)"
      ]
     },
     "execution_count": 12,
     "metadata": {},
     "output_type": "execute_result"
    }
   ],
   "source": [
    "# para generar rangos de numeros range()\n",
    "range(5)"
   ]
  },
  {
   "cell_type": "code",
   "execution_count": 17,
   "id": "2b3e31b2",
   "metadata": {},
   "outputs": [
    {
     "name": "stdout",
     "output_type": "stream",
     "text": [
      "0\n",
      "1\n",
      "2\n",
      "3\n",
      "4\n",
      "5\n",
      "6\n",
      "7\n",
      "8\n",
      "9\n",
      "10\n"
     ]
    }
   ],
   "source": [
    "#imprimir los numero de 0 a 10\n",
    "for i in range(11):\n",
    "    print(i)"
   ]
  },
  {
   "cell_type": "code",
   "execution_count": 19,
   "id": "d1d75d3f",
   "metadata": {},
   "outputs": [
    {
     "name": "stdout",
     "output_type": "stream",
     "text": [
      "0\n",
      "2\n",
      "4\n",
      "6\n",
      "8\n",
      "10\n",
      "12\n",
      "14\n",
      "16\n",
      "18\n",
      "20\n"
     ]
    }
   ],
   "source": [
    "#Problema 02\n",
    "# Imprimir los numeros de 10 a 20, utlizando for\n",
    "for i in range(0,21,2):\n",
    "    print(i)"
   ]
  },
  {
   "cell_type": "code",
   "execution_count": 22,
   "id": "0c42efab",
   "metadata": {},
   "outputs": [
    {
     "name": "stdout",
     "output_type": "stream",
     "text": [
      "[-1000, -10, 0, 0, 5, 10, 17, 20, 50, 100, 2000]\n"
     ]
    }
   ],
   "source": [
    "#Declaración de Funciones\n",
    "lista=[10,20,5,-10,100, 0, 50, 17, 2000,-1000,0];\n",
    "for i in range(1,len(lista)):\n",
    "      for j in range(0,len(lista)-i):\n",
    "              if(lista[j+1] < lista[j]):\n",
    "                aux=lista[j];\n",
    "                lista[j]=lista[j+1];\n",
    "                lista[j+1]=aux;\n",
    "print(lista);"
   ]
  },
  {
   "cell_type": "code",
   "execution_count": null,
   "id": "16a58b16",
   "metadata": {},
   "outputs": [],
   "source": []
  }
 ],
 "metadata": {
  "kernelspec": {
   "display_name": "Python 3 (ipykernel)",
   "language": "python",
   "name": "python3"
  },
  "language_info": {
   "codemirror_mode": {
    "name": "ipython",
    "version": 3
   },
   "file_extension": ".py",
   "mimetype": "text/x-python",
   "name": "python",
   "nbconvert_exporter": "python",
   "pygments_lexer": "ipython3",
   "version": "3.9.7"
  }
 },
 "nbformat": 4,
 "nbformat_minor": 5
}
