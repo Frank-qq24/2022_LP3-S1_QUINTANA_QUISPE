{
 "cells": [
  {
   "cell_type": "markdown",
   "id": "3da68e5e",
   "metadata": {},
   "source": [
    "# Semana 06\n",
    "Quintana Quispe Frank\n",
    "\n",
    "    1. Colecciones de Datos\n",
    "    2. Estrcutura decisivas y repetitivas\n",
    "    3. Funciones"
   ]
  },
  {
   "cell_type": "code",
   "execution_count": null,
   "id": "39f0ea41",
   "metadata": {},
   "outputs": [],
   "source": [
    "#3.1 Metodos vacios\n",
    "#Explicacion: no reciben valores(Parametros)\n",
    "\n",
    "def saludo():\n",
    "    print(\"Bienvenidos al curso de LP3\")\n",
    "    print(\"*******PYTHON*******\")"
   ]
  },
  {
   "cell_type": "code",
   "execution_count": null,
   "id": "92e38333",
   "metadata": {},
   "outputs": [],
   "source": [
    "saludo()"
   ]
  },
  {
   "cell_type": "code",
   "execution_count": null,
   "id": "9e532b4b",
   "metadata": {},
   "outputs": [],
   "source": [
    "# 3.2 Métodos que reciben valores\n",
    "\n",
    "def factorial(numero):\n",
    "    fac=1\n",
    "    for i in range(1, numero+1):\n",
    "        fac*=i\n",
    "        # fac = fac*i\n",
    "        print(f\"El factorial es: {fac}\")"
   ]
  },
  {
   "cell_type": "code",
   "execution_count": null,
   "id": "081acc1f",
   "metadata": {},
   "outputs": [],
   "source": [
    "numero = int(input(\"Ingrese el Numero: \"))\n",
    "factorial(numero)"
   ]
  },
  {
   "cell_type": "code",
   "execution_count": null,
   "id": "7e19d2b7",
   "metadata": {},
   "outputs": [],
   "source": [
    "# 3.3 Métodos que devuelven valores\n",
    "def saludo2():\n",
    "    mensaje = \"Bienvenidos a LP3\"\n",
    "    return mensaje"
   ]
  },
  {
   "cell_type": "code",
   "execution_count": null,
   "id": "6342bbb5",
   "metadata": {},
   "outputs": [],
   "source": [
    "print(saludo2())"
   ]
  },
  {
   "cell_type": "code",
   "execution_count": null,
   "id": "5c982ba1",
   "metadata": {},
   "outputs": [],
   "source": [
    "# 3.4 Métodos que reciben y devuelven valores\n",
    "\n",
    "def factorial2(numero):\n",
    "    fac = 1\n",
    "    for i in range(1, numero+1):\n",
    "        fac*=i\n",
    "    return fac"
   ]
  },
  {
   "cell_type": "code",
   "execution_count": null,
   "id": "a8e621e7",
   "metadata": {},
   "outputs": [],
   "source": [
    "numero = int(input(\"Numero: \"))\n",
    "print(f\"El factorial de {numero}  es {factorial2(numero)}\")"
   ]
  }
 ],
 "metadata": {
  "kernelspec": {
   "display_name": "Python 3 (ipykernel)",
   "language": "python",
   "name": "python3"
  },
  "language_info": {
   "codemirror_mode": {
    "name": "ipython",
    "version": 3
   },
   "file_extension": ".py",
   "mimetype": "text/x-python",
   "name": "python",
   "nbconvert_exporter": "python",
   "pygments_lexer": "ipython3",
   "version": "3.9.7"
  }
 },
 "nbformat": 4,
 "nbformat_minor": 5
}
