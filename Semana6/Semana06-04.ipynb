{
 "cells": [
  {
   "cell_type": "markdown",
   "id": "e6e63fab",
   "metadata": {},
   "source": [
    "# Semana 06\n",
    "Quintana Quispe Frank\n",
    "\n",
    "    1. Colecciones de Datos\n",
    "    2. Estrcutura decisivas y repetitivas\n",
    "    3. Funciones\n",
    "    4. "
   ]
  },
  {
   "cell_type": "code",
   "execution_count": 2,
   "id": "2e023770",
   "metadata": {},
   "outputs": [],
   "source": [
    "#Problema 01\n",
    "# crear la siguiente clase\n",
    "# - clase: persona\n",
    "# - atributos: nombre, apellido, talla ,dni"
   ]
  },
  {
   "cell_type": "code",
   "execution_count": 5,
   "id": "90317236",
   "metadata": {},
   "outputs": [],
   "source": [
    "class Persona:\n",
    "    nombre = \"\"\n",
    "    apellidos = \"\"\n",
    "    dni = \"\"\n",
    "    talla = 0"
   ]
  },
  {
   "cell_type": "code",
   "execution_count": 6,
   "id": "bc309040",
   "metadata": {},
   "outputs": [
    {
     "name": "stdout",
     "output_type": "stream",
     "text": [
      "persona1\n",
      "nombre: pablo\n",
      "ape: perez gonzales\n",
      "dni: 12345667\n",
      "talla: 1.7\n"
     ]
    }
   ],
   "source": [
    "#creammos un objeto persona1 de la clase Persona() y \n",
    "# creacion del objeto perona1\n",
    "persona1 = Persona()\n",
    "#asignamos valores\n",
    "persona1.nombre = \"pablo\"\n",
    "persona1.apellidos = \"perez gonzales\"\n",
    "persona1.dni = \"12345667\"\n",
    "persona1.talla = 1.7\n",
    "\n",
    "# para mostrar\n",
    "\n",
    "print(\"persona1\")\n",
    "print(f\"nombre: {persona1.nombre}\")\n",
    "print(f\"ape: {persona1.apellidos}\")\n",
    "print(f\"dni: {persona1.dni}\")\n",
    "print(f\"talla: {persona1.talla}\")"
   ]
  },
  {
   "cell_type": "code",
   "execution_count": 19,
   "id": "b98a1159",
   "metadata": {},
   "outputs": [],
   "source": [
    "# Solución:\n",
    "\n",
    "class Curso:\n",
    "    def __init__(self,codigo,nombre, horas,creditos):\n",
    "        self.codigo = codigo\n",
    "        self.nombre = nombre\n",
    "        self.horas = horas\n",
    "        self.creditos = creditos\n",
    "        \n",
    "    def mostrar_datos_curso(self):\n",
    "        print(f\"Curso: {self.nombre}\")\n",
    "        print(f\"Código: {self.codigo}\")\n",
    "        print(f\"Horas: {self.horas}\")\n",
    "        print(f\"Créditos: {self.creditos}\")"
   ]
  },
  {
   "cell_type": "code",
   "execution_count": 20,
   "id": "6470f9b0",
   "metadata": {},
   "outputs": [],
   "source": [
    "# Creamos el objeto curso1 y le mandamos parámetros\n",
    "\n",
    "curso1 = Curso(\"C0501\",\"LP3\",6,3)"
   ]
  },
  {
   "cell_type": "code",
   "execution_count": 21,
   "id": "a85a0f8a",
   "metadata": {},
   "outputs": [
    {
     "name": "stdout",
     "output_type": "stream",
     "text": [
      "Curso: LP3\n",
      "Código: C0501\n",
      "Horas: 6\n",
      "Créditos: 3\n"
     ]
    }
   ],
   "source": [
    "# Mostramos los datos completos del curso, ejecutando el método ,ostrar_datos_curso()\n",
    "curso1.mostrar_datos_curso();"
   ]
  },
  {
   "cell_type": "code",
   "execution_count": null,
   "id": "4b51dad9",
   "metadata": {},
   "outputs": [],
   "source": []
  }
 ],
 "metadata": {
  "kernelspec": {
   "display_name": "Python 3 (ipykernel)",
   "language": "python",
   "name": "python3"
  },
  "language_info": {
   "codemirror_mode": {
    "name": "ipython",
    "version": 3
   },
   "file_extension": ".py",
   "mimetype": "text/x-python",
   "name": "python",
   "nbconvert_exporter": "python",
   "pygments_lexer": "ipython3",
   "version": "3.9.7"
  }
 },
 "nbformat": 4,
 "nbformat_minor": 5
}
