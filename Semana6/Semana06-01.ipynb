{
 "cells": [
  {
   "cell_type": "markdown",
   "id": "548009a6",
   "metadata": {},
   "source": [
    "# Semana 06\n",
    "Quintana Quispe Frank\n",
    "\n",
    "    1. Colecciones de Datos"
   ]
  },
  {
   "cell_type": "code",
   "execution_count": 1,
   "id": "75a3eee7",
   "metadata": {},
   "outputs": [],
   "source": [
    "#1.1. Listas\n",
    "# Es una coleccion de elementos que pueden ser ordenados, modificados, etc ..\n",
    "# se identifican por los corchetes\n",
    "aula =['yauricasa', 'granados', 'alva','laura']"
   ]
  },
  {
   "cell_type": "code",
   "execution_count": 2,
   "id": "3a79be26",
   "metadata": {},
   "outputs": [
    {
     "data": {
      "text/plain": [
       "['yauricasa', 'granados', 'alva', 'laura']"
      ]
     },
     "execution_count": 2,
     "metadata": {},
     "output_type": "execute_result"
    }
   ],
   "source": [
    "aula"
   ]
  },
  {
   "cell_type": "code",
   "execution_count": 3,
   "id": "ab80b662",
   "metadata": {},
   "outputs": [
    {
     "name": "stdout",
     "output_type": "stream",
     "text": [
      "yauricasa\n"
     ]
    }
   ],
   "source": [
    "print(aula[0])"
   ]
  },
  {
   "cell_type": "code",
   "execution_count": 4,
   "id": "cf16b06a",
   "metadata": {},
   "outputs": [
    {
     "data": {
      "text/plain": [
       "'chavez'"
      ]
     },
     "execution_count": 4,
     "metadata": {},
     "output_type": "execute_result"
    }
   ],
   "source": [
    "#puedo asignar una posicion de la lista\n",
    "aula[1] = 'chavez'\n",
    "aula[1]"
   ]
  },
  {
   "cell_type": "code",
   "execution_count": 5,
   "id": "b95386db",
   "metadata": {},
   "outputs": [
    {
     "data": {
      "text/plain": [
       "['yauricasa', 'chavez', 'alva', 'laura']"
      ]
     },
     "execution_count": 5,
     "metadata": {},
     "output_type": "execute_result"
    }
   ],
   "source": [
    "aula"
   ]
  },
  {
   "cell_type": "code",
   "execution_count": 6,
   "id": "587e620f",
   "metadata": {},
   "outputs": [],
   "source": [
    "#Para agregar un elemento = append\n",
    "aula.append(\"huaman\")\n",
    "aula.append('huancas')\n"
   ]
  },
  {
   "cell_type": "code",
   "execution_count": 15,
   "id": "04d88050",
   "metadata": {},
   "outputs": [
    {
     "data": {
      "text/plain": [
       "['chavez', 'alva', 'laura', 'huaman', 'huancas']"
      ]
     },
     "execution_count": 15,
     "metadata": {},
     "output_type": "execute_result"
    }
   ],
   "source": [
    "aula"
   ]
  },
  {
   "cell_type": "code",
   "execution_count": 16,
   "id": "30604320",
   "metadata": {},
   "outputs": [
    {
     "data": {
      "text/plain": [
       "['chavez', 'laura', 'huaman', 'huancas']"
      ]
     },
     "execution_count": 16,
     "metadata": {},
     "output_type": "execute_result"
    }
   ],
   "source": [
    "#para eliminar = remove[]\n",
    "aula.remove(\"alva\")\n",
    "aula"
   ]
  },
  {
   "cell_type": "code",
   "execution_count": 18,
   "id": "36537d90",
   "metadata": {},
   "outputs": [
    {
     "data": {
      "text/plain": [
       "['laura', 'huaman', 'huancas']"
      ]
     },
     "execution_count": 18,
     "metadata": {},
     "output_type": "execute_result"
    }
   ],
   "source": [
    "#aula.remove(aula[x]), x es un indice\n",
    "aula.remove(aula[0])\n",
    "aula"
   ]
  },
  {
   "cell_type": "code",
   "execution_count": 20,
   "id": "3bc131ff",
   "metadata": {},
   "outputs": [
    {
     "data": {
      "text/plain": [
       "3"
      ]
     },
     "execution_count": 20,
     "metadata": {},
     "output_type": "execute_result"
    }
   ],
   "source": [
    "#para obtener el tama;o utilizamos len()\n",
    "len(aula)"
   ]
  },
  {
   "cell_type": "code",
   "execution_count": null,
   "id": "9057ad7c",
   "metadata": {},
   "outputs": [],
   "source": [
    "#para eliminar de otro modo aula.pop(x), x es un indice\n"
   ]
  },
  {
   "cell_type": "code",
   "execution_count": 21,
   "id": "b09ae342",
   "metadata": {},
   "outputs": [
    {
     "name": "stdout",
     "output_type": "stream",
     "text": [
      "laura\n",
      "huaman\n",
      "huancas\n"
     ]
    }
   ],
   "source": [
    "for alumno in aula:\n",
    "    print(alumno)"
   ]
  },
  {
   "cell_type": "code",
   "execution_count": 27,
   "id": "ac98c21a",
   "metadata": {},
   "outputs": [
    {
     "data": {
      "text/plain": [
       "['laura', 'huancas', 'huaman']"
      ]
     },
     "execution_count": 27,
     "metadata": {},
     "output_type": "execute_result"
    }
   ],
   "source": [
    "#invertir el orden del arreglo\n",
    "aula.reverse()\n",
    "aula "
   ]
  },
  {
   "cell_type": "code",
   "execution_count": 28,
   "id": "24d732bb",
   "metadata": {},
   "outputs": [
    {
     "data": {
      "text/plain": [
       "['huaman', 'huancas', 'laura']"
      ]
     },
     "execution_count": 28,
     "metadata": {},
     "output_type": "execute_result"
    }
   ],
   "source": [
    "# Para ordenar la lista = sort()\n",
    "aula.sort()\n",
    "aula"
   ]
  },
  {
   "cell_type": "code",
   "execution_count": 29,
   "id": "b78e67b1",
   "metadata": {},
   "outputs": [
    {
     "data": {
      "text/plain": [
       "('grandos', 'quintana', 'laura', 'julca', 'yaurisaca')"
      ]
     },
     "execution_count": 29,
     "metadata": {},
     "output_type": "execute_result"
    }
   ],
   "source": [
    "# 1.2. tuplas\n",
    "# es una coleccion de elementos ordenada(ordenado significa que tiene indice) que no se pueden modificar\n",
    "# es INALTERABLE.\n",
    "# NO SE PUEDEN PUEDEN AGREGAR ELEMENTOS NI ELIMINAR.\n",
    "# SE IDENTIFICAN POR PARENTESIS\n",
    "tupla_aula = ('grandos', 'quintana', 'laura', 'julca','yaurisaca')\n",
    "tupla_aula"
   ]
  },
  {
   "cell_type": "code",
   "execution_count": 30,
   "id": "dd90e3f5",
   "metadata": {},
   "outputs": [
    {
     "name": "stdout",
     "output_type": "stream",
     "text": [
      "grandos\n",
      "quintana\n",
      "laura\n",
      "julca\n",
      "yaurisaca\n"
     ]
    }
   ],
   "source": [
    "#se puede recorrer con una estructura repetitiva \n",
    "for alumno in tupla_aula:\n",
    "    print(alumno)"
   ]
  },
  {
   "cell_type": "code",
   "execution_count": 31,
   "id": "6f6400a3",
   "metadata": {},
   "outputs": [
    {
     "data": {
      "text/plain": [
       "'laura'"
      ]
     },
     "execution_count": 31,
     "metadata": {},
     "output_type": "execute_result"
    }
   ],
   "source": [
    "# se extrae por indice\n",
    "tupla_aula[2]"
   ]
  },
  {
   "cell_type": "code",
   "execution_count": 32,
   "id": "214d7571",
   "metadata": {},
   "outputs": [
    {
     "data": {
      "text/plain": [
       "5"
      ]
     },
     "execution_count": 32,
     "metadata": {},
     "output_type": "execute_result"
    }
   ],
   "source": [
    "len(tupla_aula)"
   ]
  },
  {
   "cell_type": "code",
   "execution_count": 33,
   "id": "5b571a7c",
   "metadata": {},
   "outputs": [
    {
     "data": {
      "text/plain": [
       "{'cusi', 'granados', 'julca', 'marcos'}"
      ]
     },
     "execution_count": 33,
     "metadata": {},
     "output_type": "execute_result"
    }
   ],
   "source": [
    "#1.3. conjuntos\n",
    "# es una coleccion de elementos que no esta ordenado(significa que no tiene un indice)\n",
    "conjunto_aula = {'granados', 'julca', 'cusi', 'marcos'}\n",
    "conjunto_aula"
   ]
  },
  {
   "cell_type": "code",
   "execution_count": 34,
   "id": "d731718c",
   "metadata": {},
   "outputs": [
    {
     "name": "stdout",
     "output_type": "stream",
     "text": [
      "cusi\n",
      "julca\n",
      "marcos\n",
      "granados\n"
     ]
    }
   ],
   "source": [
    "# estructura repetitiva\n",
    "for alumno in conjunto_aula: \n",
    "    print(alumno)"
   ]
  },
  {
   "cell_type": "code",
   "execution_count": 35,
   "id": "4d1e356a",
   "metadata": {},
   "outputs": [],
   "source": [
    "# No se puede ingresar por posiscion porque trabaja con el index\n",
    "# ejemplo\n",
    "# conjunto_aula[2] ----> mensaje error"
   ]
  },
  {
   "cell_type": "code",
   "execution_count": 37,
   "id": "abb77fe5",
   "metadata": {},
   "outputs": [
    {
     "data": {
      "text/plain": [
       "4"
      ]
     },
     "execution_count": 37,
     "metadata": {},
     "output_type": "execute_result"
    }
   ],
   "source": [
    "len(conjunto_aula)"
   ]
  },
  {
   "cell_type": "code",
   "execution_count": 38,
   "id": "c8654bcf",
   "metadata": {},
   "outputs": [
    {
     "data": {
      "text/plain": [
       "{'cusi', 'granados', 'julca', 'marcos', 'motta'}"
      ]
     },
     "execution_count": 38,
     "metadata": {},
     "output_type": "execute_result"
    }
   ],
   "source": [
    "#se utiliza la funcion add() para agregar\n",
    "conjunto_aula.add(\"motta\")\n",
    "conjunto_aula"
   ]
  },
  {
   "cell_type": "code",
   "execution_count": 39,
   "id": "3744f987",
   "metadata": {},
   "outputs": [
    {
     "data": {
      "text/plain": [
       "{'cusi', 'julca', 'marcos', 'motta'}"
      ]
     },
     "execution_count": 39,
     "metadata": {},
     "output_type": "execute_result"
    }
   ],
   "source": [
    "conjunto_aula.remove(\"granados\")\n",
    "conjunto_aula"
   ]
  },
  {
   "cell_type": "code",
   "execution_count": 47,
   "id": "d98bd203",
   "metadata": {},
   "outputs": [
    {
     "data": {
      "text/plain": [
       "{2: 'cusi', '1': 'julca', 'dos': 'marcos', '0': 'motta'}"
      ]
     },
     "execution_count": 47,
     "metadata": {},
     "output_type": "execute_result"
    }
   ],
   "source": [
    "#1.4 direcctorios\n",
    "# es una coleccion de elementos, que estan indexados, no estan ordenados y se puden modificar\n",
    "#son escritas entre llaves y estan formados por pares de elementos INDICE:valor\n",
    "diccionario_aula={2:'cusi','1':'julca', 'dos':'marcos', '0':'motta'}\n",
    "diccionario_aula"
   ]
  },
  {
   "cell_type": "code",
   "execution_count": 48,
   "id": "a64c5768",
   "metadata": {},
   "outputs": [
    {
     "data": {
      "text/plain": [
       "'motta'"
      ]
     },
     "execution_count": 48,
     "metadata": {},
     "output_type": "execute_result"
    }
   ],
   "source": [
    "#del diccionario: diccionario_ula estraer el valor cuyo indice  \n",
    "diccionario_aula['0']"
   ]
  },
  {
   "cell_type": "code",
   "execution_count": 49,
   "id": "fd6d1582",
   "metadata": {},
   "outputs": [
    {
     "data": {
      "text/plain": [
       "'cusi'"
      ]
     },
     "execution_count": 49,
     "metadata": {},
     "output_type": "execute_result"
    }
   ],
   "source": [
    "diccionario_aula[2]"
   ]
  },
  {
   "cell_type": "code",
   "execution_count": 50,
   "id": "424b94df",
   "metadata": {},
   "outputs": [
    {
     "data": {
      "text/plain": [
       "'marcos'"
      ]
     },
     "execution_count": 50,
     "metadata": {},
     "output_type": "execute_result"
    }
   ],
   "source": [
    "diccionario_aula[\"dos\"]"
   ]
  },
  {
   "cell_type": "code",
   "execution_count": 51,
   "id": "ba06bab9",
   "metadata": {},
   "outputs": [
    {
     "data": {
      "text/plain": [
       "{2: 'cusi', '1': 'julca', 'dos': 'marcos', '0': 'motta', '20': 'serna'}"
      ]
     },
     "execution_count": 51,
     "metadata": {},
     "output_type": "execute_result"
    }
   ],
   "source": [
    "diccionario_aula['20']=\"serna\"\n",
    "diccionario_aula"
   ]
  },
  {
   "cell_type": "code",
   "execution_count": 52,
   "id": "17508a8f",
   "metadata": {},
   "outputs": [
    {
     "data": {
      "text/plain": [
       "{'1': 'julca', 'dos': 'marcos', '0': 'motta', '20': 'serna'}"
      ]
     },
     "execution_count": 52,
     "metadata": {},
     "output_type": "execute_result"
    }
   ],
   "source": [
    "# Para elimnar un valor se utiliza pop()\n",
    "#Ejemplo> eliminar el elemento de indice por:\n",
    "diccionario_aula.pop(2)\n",
    "diccionario_aula"
   ]
  },
  {
   "cell_type": "code",
   "execution_count": 54,
   "id": "3212d963",
   "metadata": {},
   "outputs": [
    {
     "data": {
      "text/plain": [
       "{'1': 'julca', '0': 'motta', '20': 'serna'}"
      ]
     },
     "execution_count": 54,
     "metadata": {},
     "output_type": "execute_result"
    }
   ],
   "source": [
    "#tambien se puede eliminar con del()\n",
    "del (diccionario_aula[\"dos\"])\n",
    "diccionario_aula"
   ]
  },
  {
   "cell_type": "code",
   "execution_count": 55,
   "id": "c95ca714",
   "metadata": {},
   "outputs": [
    {
     "name": "stdout",
     "output_type": "stream",
     "text": [
      "1\n",
      "0\n",
      "20\n"
     ]
    }
   ],
   "source": [
    "for indice in diccionario_aula:\n",
    "    print(indice)"
   ]
  },
  {
   "cell_type": "code",
   "execution_count": 57,
   "id": "ee211327",
   "metadata": {},
   "outputs": [
    {
     "name": "stdout",
     "output_type": "stream",
     "text": [
      "1 julca\n",
      "0 motta\n",
      "20 serna\n"
     ]
    }
   ],
   "source": [
    "# para utilizar el indice y el valor de  cada elemento con items()\n",
    "for indice, valor in diccionario_aula.items():\n",
    "    print(indice, valor)"
   ]
  },
  {
   "cell_type": "code",
   "execution_count": 65,
   "id": "aa3dab95",
   "metadata": {},
   "outputs": [],
   "source": [
    "#1.5 Ejercicio\n",
    "#Dada la lista ALANYA\", \"ALVA\" ,\"AZAÑERO\" ,\"CARRASCO\" ,\"CCACCYA\" ,\"COSME\",\"CUSI\" ,\"DIAZ\" ,\"FLORES\",\"GOMEZe\",\"GOMEZ\",\"GRANADOS\",\"HUANCAS\",\"JULCA\",\"LAURA\",\"MOTTA\",\"PINEDO\",\"PONCE\",\"QUINTANA\",\"RODRIGUEZ\",\"SERNA\"\n",
    "lista_alumnos = {'teclado1':'cusi','teclado2':'julca', 'teclado3':'marcos', 'teclado4':'motta'}\n"
   ]
  },
  {
   "cell_type": "code",
   "execution_count": 68,
   "id": "725db106",
   "metadata": {},
   "outputs": [
    {
     "name": "stdout",
     "output_type": "stream",
     "text": [
      "nombre del alumno :\n",
      "granados\n",
      "------------------------------------------\n",
      "teclado1 cusi\n",
      "teclado2 julca\n",
      "teclado3 marcos\n",
      "teclado4 motta\n",
      "escrito5 Quintana\n",
      "escrito6 laura\n",
      "escrito7 granados\n"
     ]
    }
   ],
   "source": [
    "i= len(lista_alumnos)\n",
    "index = int(i)+1\n",
    "print('nombre del alumno :')\n",
    "apellido = input()\n",
    "lista_alumnos['escrito'+ str(index)]= apellido\n",
    "print('------------------------------------------')\n",
    "for indice, valor in lista_alumnos.items():\n",
    "    print(indice, valor)"
   ]
  },
  {
   "cell_type": "code",
   "execution_count": null,
   "id": "81541fad",
   "metadata": {},
   "outputs": [],
   "source": []
  }
 ],
 "metadata": {
  "kernelspec": {
   "display_name": "Python 3 (ipykernel)",
   "language": "python",
   "name": "python3"
  },
  "language_info": {
   "codemirror_mode": {
    "name": "ipython",
    "version": 3
   },
   "file_extension": ".py",
   "mimetype": "text/x-python",
   "name": "python",
   "nbconvert_exporter": "python",
   "pygments_lexer": "ipython3",
   "version": "3.9.7"
  }
 },
 "nbformat": 4,
 "nbformat_minor": 5
}
